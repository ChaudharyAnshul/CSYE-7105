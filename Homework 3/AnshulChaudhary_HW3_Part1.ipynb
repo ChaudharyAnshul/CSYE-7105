{
 "cells": [
  {
   "cell_type": "markdown",
   "id": "ca925c0d-9e5c-45a1-8cf6-74f74e6d8089",
   "metadata": {},
   "source": [
    "# Homework 3 - Part 1\n",
    "\n",
    "CSYE7105 Instructor: Dr. Handan Liu\n",
    "\n",
    "<b>Name: Anshul Chaudhary</b>\n",
    "    \n",
    "<b>NUID: 002820096</b>"
   ]
  },
  {
   "cell_type": "code",
   "execution_count": 1,
   "id": "db13bf06-33b8-4d3c-811b-ec9b850a0d25",
   "metadata": {},
   "outputs": [],
   "source": [
    "import warnings\n",
    "warnings.filterwarnings(\"ignore\")"
   ]
  },
  {
   "cell_type": "markdown",
   "id": "e71e2b03-376e-4b4e-952a-468df3193d12",
   "metadata": {
    "tags": []
   },
   "source": [
    "### Installations"
   ]
  },
  {
   "cell_type": "code",
   "execution_count": 2,
   "id": "e451025e-e01a-4073-8434-5a8791c07df4",
   "metadata": {
    "tags": []
   },
   "outputs": [
    {
     "name": "stdout",
     "output_type": "stream",
     "text": [
      "Defaulting to user installation because normal site-packages is not writeable\n",
      "Requirement already satisfied: numpy==1.26.4 in /home/chaudhary.ans/.local/lib/python3.9/site-packages (1.26.4)\n",
      "Requirement already satisfied: pandas in /shared/centos7/anaconda3/2022.05/lib/python3.9/site-packages (1.4.2)\n",
      "Requirement already satisfied: dask in /shared/centos7/anaconda3/2022.05/lib/python3.9/site-packages (2022.2.1)\n",
      "Requirement already satisfied: matplotlib in /shared/centos7/anaconda3/2022.05/lib/python3.9/site-packages (3.5.1)\n",
      "Requirement already satisfied: python-dateutil>=2.8.1 in /shared/centos7/anaconda3/2022.05/lib/python3.9/site-packages (from pandas) (2.8.2)\n",
      "Requirement already satisfied: pytz>=2020.1 in /shared/centos7/anaconda3/2022.05/lib/python3.9/site-packages (from pandas) (2021.3)\n",
      "Requirement already satisfied: fsspec>=0.6.0 in /shared/centos7/anaconda3/2022.05/lib/python3.9/site-packages (from dask) (2022.2.0)\n",
      "Requirement already satisfied: cloudpickle>=1.1.1 in /shared/centos7/anaconda3/2022.05/lib/python3.9/site-packages (from dask) (2.0.0)\n",
      "Requirement already satisfied: toolz>=0.8.2 in /shared/centos7/anaconda3/2022.05/lib/python3.9/site-packages (from dask) (0.11.2)\n",
      "Requirement already satisfied: pyyaml>=5.3.1 in /shared/centos7/anaconda3/2022.05/lib/python3.9/site-packages (from dask) (6.0)\n",
      "Requirement already satisfied: packaging>=20.0 in /shared/centos7/anaconda3/2022.05/lib/python3.9/site-packages (from dask) (21.3)\n",
      "Requirement already satisfied: partd>=0.3.10 in /home/chaudhary.ans/.local/lib/python3.9/site-packages (from dask) (1.4.2)\n",
      "Requirement already satisfied: kiwisolver>=1.0.1 in /shared/centos7/anaconda3/2022.05/lib/python3.9/site-packages (from matplotlib) (1.3.2)\n",
      "Requirement already satisfied: cycler>=0.10 in /shared/centos7/anaconda3/2022.05/lib/python3.9/site-packages (from matplotlib) (0.11.0)\n",
      "Requirement already satisfied: pillow>=6.2.0 in /shared/centos7/anaconda3/2022.05/lib/python3.9/site-packages (from matplotlib) (9.0.1)\n",
      "Requirement already satisfied: fonttools>=4.22.0 in /shared/centos7/anaconda3/2022.05/lib/python3.9/site-packages (from matplotlib) (4.25.0)\n",
      "Requirement already satisfied: pyparsing>=2.2.1 in /shared/centos7/anaconda3/2022.05/lib/python3.9/site-packages (from matplotlib) (3.0.4)\n",
      "Requirement already satisfied: locket in /home/chaudhary.ans/.local/lib/python3.9/site-packages (from partd>=0.3.10->dask) (1.0.0)\n",
      "Requirement already satisfied: six>=1.5 in /shared/centos7/anaconda3/2022.05/lib/python3.9/site-packages (from python-dateutil>=2.8.1->pandas) (1.16.0)\n"
     ]
    }
   ],
   "source": [
    "!pip install numpy==1.26.4 pandas dask matplotlib"
   ]
  },
  {
   "cell_type": "markdown",
   "id": "fd2bd175-c6f2-4bec-95f0-b29a6b941e4a",
   "metadata": {
    "tags": []
   },
   "source": [
    "### Import statements"
   ]
  },
  {
   "cell_type": "code",
   "execution_count": 3,
   "id": "b1c71200-77d4-4e2f-babd-8aed74b6fa69",
   "metadata": {},
   "outputs": [],
   "source": [
    "import numpy as np\n",
    "import dask.array as da\n",
    "import time\n",
    "import matplotlib.pyplot as plt"
   ]
  },
  {
   "cell_type": "markdown",
   "id": "f6840169-56ef-4d14-b97e-b9230c758f84",
   "metadata": {},
   "source": [
    "### Part 1: 30 points"
   ]
  },
  {
   "cell_type": "markdown",
   "id": "7021e0cc-f522-4857-87c3-5480925da8fa",
   "metadata": {
    "tags": []
   },
   "source": [
    "#### 1. Create a numpy array by using random number generator as this: seed is 1, random integer numbers in [1,10) with the shape is 30000x20000. Then set a timer to calculate the mean of every row. (5 pts)"
   ]
  },
  {
   "cell_type": "code",
   "execution_count": 4,
   "id": "81cd4c7c-acbf-4577-96a5-ef4c39f74aa5",
   "metadata": {},
   "outputs": [],
   "source": [
    "# set random seed as 1\n",
    "np.random.seed(1)"
   ]
  },
  {
   "cell_type": "code",
   "execution_count": 5,
   "id": "07595e7d-5629-4204-b29e-7550cd151b3d",
   "metadata": {},
   "outputs": [],
   "source": [
    "# generate a random integer array with values in range [1,10) and shape 30000 x 20000\n",
    "array = np.random.randint(1, 10, size=(30000, 20000))"
   ]
  },
  {
   "cell_type": "code",
   "execution_count": 6,
   "id": "8ee6fda3-af1e-4f7b-8d38-c6b6d647a20b",
   "metadata": {},
   "outputs": [
    {
     "name": "stdout",
     "output_type": "stream",
     "text": [
      "Numpy array: \n",
      " [[6 9 6 ... 7 2 9]\n",
      " [4 1 5 ... 2 4 9]\n",
      " [6 2 8 ... 6 5 4]\n",
      " ...\n",
      " [6 2 5 ... 3 6 7]\n",
      " [3 5 9 ... 7 4 6]\n",
      " [3 8 5 ... 8 7 5]]\n",
      "Numpy array shape:  (30000, 20000)\n"
     ]
    }
   ],
   "source": [
    "# display array\n",
    "print(\"Numpy array: \\n\", array)\n",
    "print(\"Numpy array shape: \", array.shape)"
   ]
  },
  {
   "cell_type": "code",
   "execution_count": 7,
   "id": "1236e838-f939-40fc-b352-35e3a12d09b3",
   "metadata": {},
   "outputs": [],
   "source": [
    "# time the calculatation of mean for every row.\n",
    "\n",
    "# Start the timer\n",
    "start_time = time.time()\n",
    "\n",
    "# calculate the mean of each row\n",
    "row_means = array.mean(axis=1)\n",
    "\n",
    "# End the timer\n",
    "numpy_time = time.time() - start_time"
   ]
  },
  {
   "cell_type": "code",
   "execution_count": 8,
   "id": "58b6c831-445d-492f-91c8-50e015948f84",
   "metadata": {},
   "outputs": [
    {
     "name": "stdout",
     "output_type": "stream",
     "text": [
      "Time taken to calculate row-wise mean with NumPy: 0.9316987991333008 seconds\n"
     ]
    }
   ],
   "source": [
    "# Display time taken for NumPy operation\n",
    "print(\"Time taken to calculate row-wise mean with NumPy:\", numpy_time, \"seconds\")"
   ]
  },
  {
   "cell_type": "markdown",
   "id": "69324ae3-d286-4217-8c4e-926b5f8122ba",
   "metadata": {
    "tags": []
   },
   "source": [
    "#### 2. Use the same array in dask, and set the chunksize is (1000, 1000) to get a dask array. Assume da4 is the name of this dask array in this case. (4 points)"
   ]
  },
  {
   "cell_type": "code",
   "execution_count": 9,
   "id": "8426c502-d11d-4a1a-a9c3-e817d1a06e6c",
   "metadata": {},
   "outputs": [],
   "source": [
    "# Create a Dask array from the NumPy array with chunks of size (1000, 1000)\n",
    "da4 = da.from_array(array, chunks=(1000, 1000))"
   ]
  },
  {
   "cell_type": "code",
   "execution_count": 10,
   "id": "e0d876d4-d7f3-4b7f-ae43-994408a198ee",
   "metadata": {},
   "outputs": [
    {
     "name": "stdout",
     "output_type": "stream",
     "text": [
      "Dask Array - da4: dask.array<array, shape=(30000, 20000), dtype=int64, chunksize=(1000, 1000), chunktype=numpy.ndarray>\n",
      "Shape: (30000, 20000)\n",
      "Chunks: (1000, 1000)\n",
      "Data type: int64\n"
     ]
    }
   ],
   "source": [
    "# display dask array\n",
    "print(\"Dask Array - da4:\", da4)\n",
    "print(\"Shape:\", da4.shape)\n",
    "print(\"Chunks:\", da4.chunksize)\n",
    "print(\"Data type:\", da4.dtype)"
   ]
  },
  {
   "cell_type": "markdown",
   "id": "86b4ea23-0cfd-4f1e-a3d9-43dade58e02f",
   "metadata": {
    "tags": []
   },
   "source": [
    "#### 3. Use numpy method to calculate the size of da4 and the size of this chunk array (1000, 1000), then compare your calculations with the result about Bytes of Array and Chunk of da4.             (4 pts)"
   ]
  },
  {
   "cell_type": "code",
   "execution_count": 11,
   "id": "c297a6a2-824f-45ff-b4ff-b1c91e2a80eb",
   "metadata": {},
   "outputs": [],
   "source": [
    "# calculate total size of the array (in bytes) using NumPy method\n",
    "calculated_size_bytes = array.size * array.itemsize"
   ]
  },
  {
   "cell_type": "code",
   "execution_count": 12,
   "id": "f73a61d3-bfbe-45db-b0da-bd7893047516",
   "metadata": {},
   "outputs": [],
   "source": [
    "# calculate the size of one chunk (1000x1000) in bytes\n",
    "calculated_chunk_size_bytes = 1000 * 1000 * array.itemsize"
   ]
  },
  {
   "cell_type": "code",
   "execution_count": 13,
   "id": "1161f757-6c5b-4565-99f2-cd1008ed1861",
   "metadata": {},
   "outputs": [],
   "source": [
    "# Dask array size\n",
    "dask_size_bytes = da4.nbytes"
   ]
  },
  {
   "cell_type": "code",
   "execution_count": 14,
   "id": "7a357d21-5893-4f1d-820e-ef998d4a4296",
   "metadata": {},
   "outputs": [],
   "source": [
    "# Dask array chunk size\n",
    "dask_chunk_size = da4.chunksize[0] * da4.chunksize[1] * da4.itemsize"
   ]
  },
  {
   "cell_type": "code",
   "execution_count": 15,
   "id": "6836b758-c8db-4c4f-980e-5735c8d87fec",
   "metadata": {},
   "outputs": [
    {
     "name": "stdout",
     "output_type": "stream",
     "text": [
      "Total Array Size (calculated): 4800000000 Bytes\n",
      "Chunk Size (calculated for 1000x1000): 8000000 Bytes\n",
      "Dask Array Size (Dask-calculated): 4800000000 Bytes\n",
      "Dask Chunk Size (Dask-calculated): 8000000 Bytes\n"
     ]
    }
   ],
   "source": [
    "# Display calculated sizes and compare with Dask's automatic calculations\n",
    "print(\"Total Array Size (calculated):\", calculated_size_bytes, \"Bytes\")\n",
    "print(\"Chunk Size (calculated for 1000x1000):\", calculated_chunk_size_bytes, \"Bytes\")\n",
    "print(\"Dask Array Size (Dask-calculated):\", dask_size_bytes, \"Bytes\")\n",
    "print(\"Dask Chunk Size (Dask-calculated):\", dask_chunk_size, \"Bytes\")"
   ]
  },
  {
   "cell_type": "code",
   "execution_count": 16,
   "id": "527dcd11-5946-45f6-bc1e-b2821a5615b9",
   "metadata": {},
   "outputs": [
    {
     "data": {
      "text/html": [
       "<table>\n",
       "    <tr>\n",
       "        <td>\n",
       "            <table>\n",
       "                <thead>\n",
       "                    <tr>\n",
       "                        <td> </td>\n",
       "                        <th> Array </th>\n",
       "                        <th> Chunk </th>\n",
       "                    </tr>\n",
       "                </thead>\n",
       "                <tbody>\n",
       "                    \n",
       "                    <tr>\n",
       "                        <th> Bytes </th>\n",
       "                        <td> 4.47 GiB </td>\n",
       "                        <td> 7.63 MiB </td>\n",
       "                    </tr>\n",
       "                    \n",
       "                    <tr>\n",
       "                        <th> Shape </th>\n",
       "                        <td> (30000, 20000) </td>\n",
       "                        <td> (1000, 1000) </td>\n",
       "                    </tr>\n",
       "                    <tr>\n",
       "                        <th> Count </th>\n",
       "                        <td> 600 Tasks </td>\n",
       "                        <td> 600 Chunks </td>\n",
       "                    </tr>\n",
       "                    <tr>\n",
       "                    <th> Type </th>\n",
       "                    <td> int64 </td>\n",
       "                    <td> numpy.ndarray </td>\n",
       "                    </tr>\n",
       "                </tbody>\n",
       "            </table>\n",
       "        </td>\n",
       "        <td>\n",
       "        <svg width=\"130\" height=\"170\" style=\"stroke:rgb(0,0,0);stroke-width:1\" >\n",
       "\n",
       "  <!-- Horizontal lines -->\n",
       "  <line x1=\"0\" y1=\"0\" x2=\"80\" y2=\"0\" style=\"stroke-width:2\" />\n",
       "  <line x1=\"0\" y1=\"4\" x2=\"80\" y2=\"4\" />\n",
       "  <line x1=\"0\" y1=\"12\" x2=\"80\" y2=\"12\" />\n",
       "  <line x1=\"0\" y1=\"16\" x2=\"80\" y2=\"16\" />\n",
       "  <line x1=\"0\" y1=\"24\" x2=\"80\" y2=\"24\" />\n",
       "  <line x1=\"0\" y1=\"28\" x2=\"80\" y2=\"28\" />\n",
       "  <line x1=\"0\" y1=\"36\" x2=\"80\" y2=\"36\" />\n",
       "  <line x1=\"0\" y1=\"44\" x2=\"80\" y2=\"44\" />\n",
       "  <line x1=\"0\" y1=\"48\" x2=\"80\" y2=\"48\" />\n",
       "  <line x1=\"0\" y1=\"56\" x2=\"80\" y2=\"56\" />\n",
       "  <line x1=\"0\" y1=\"60\" x2=\"80\" y2=\"60\" />\n",
       "  <line x1=\"0\" y1=\"68\" x2=\"80\" y2=\"68\" />\n",
       "  <line x1=\"0\" y1=\"72\" x2=\"80\" y2=\"72\" />\n",
       "  <line x1=\"0\" y1=\"80\" x2=\"80\" y2=\"80\" />\n",
       "  <line x1=\"0\" y1=\"88\" x2=\"80\" y2=\"88\" />\n",
       "  <line x1=\"0\" y1=\"92\" x2=\"80\" y2=\"92\" />\n",
       "  <line x1=\"0\" y1=\"100\" x2=\"80\" y2=\"100\" />\n",
       "  <line x1=\"0\" y1=\"104\" x2=\"80\" y2=\"104\" />\n",
       "  <line x1=\"0\" y1=\"112\" x2=\"80\" y2=\"112\" />\n",
       "  <line x1=\"0\" y1=\"120\" x2=\"80\" y2=\"120\" style=\"stroke-width:2\" />\n",
       "\n",
       "  <!-- Vertical lines -->\n",
       "  <line x1=\"0\" y1=\"0\" x2=\"0\" y2=\"120\" style=\"stroke-width:2\" />\n",
       "  <line x1=\"4\" y1=\"0\" x2=\"4\" y2=\"120\" />\n",
       "  <line x1=\"8\" y1=\"0\" x2=\"8\" y2=\"120\" />\n",
       "  <line x1=\"12\" y1=\"0\" x2=\"12\" y2=\"120\" />\n",
       "  <line x1=\"16\" y1=\"0\" x2=\"16\" y2=\"120\" />\n",
       "  <line x1=\"20\" y1=\"0\" x2=\"20\" y2=\"120\" />\n",
       "  <line x1=\"24\" y1=\"0\" x2=\"24\" y2=\"120\" />\n",
       "  <line x1=\"28\" y1=\"0\" x2=\"28\" y2=\"120\" />\n",
       "  <line x1=\"32\" y1=\"0\" x2=\"32\" y2=\"120\" />\n",
       "  <line x1=\"36\" y1=\"0\" x2=\"36\" y2=\"120\" />\n",
       "  <line x1=\"40\" y1=\"0\" x2=\"40\" y2=\"120\" />\n",
       "  <line x1=\"44\" y1=\"0\" x2=\"44\" y2=\"120\" />\n",
       "  <line x1=\"48\" y1=\"0\" x2=\"48\" y2=\"120\" />\n",
       "  <line x1=\"52\" y1=\"0\" x2=\"52\" y2=\"120\" />\n",
       "  <line x1=\"56\" y1=\"0\" x2=\"56\" y2=\"120\" />\n",
       "  <line x1=\"60\" y1=\"0\" x2=\"60\" y2=\"120\" />\n",
       "  <line x1=\"64\" y1=\"0\" x2=\"64\" y2=\"120\" />\n",
       "  <line x1=\"68\" y1=\"0\" x2=\"68\" y2=\"120\" />\n",
       "  <line x1=\"72\" y1=\"0\" x2=\"72\" y2=\"120\" />\n",
       "  <line x1=\"80\" y1=\"0\" x2=\"80\" y2=\"120\" style=\"stroke-width:2\" />\n",
       "\n",
       "  <!-- Colored Rectangle -->\n",
       "  <polygon points=\"0.0,0.0 80.0,0.0 80.0,120.0 0.0,120.0\" style=\"fill:#8B4903A0;stroke-width:0\"/>\n",
       "\n",
       "  <!-- Text -->\n",
       "  <text x=\"40.000000\" y=\"140.000000\" font-size=\"1.0rem\" font-weight=\"100\" text-anchor=\"middle\" >20000</text>\n",
       "  <text x=\"100.000000\" y=\"60.000000\" font-size=\"1.0rem\" font-weight=\"100\" text-anchor=\"middle\" transform=\"rotate(-90,100.000000,60.000000)\">30000</text>\n",
       "</svg>\n",
       "        </td>\n",
       "    </tr>\n",
       "</table>"
      ],
      "text/plain": [
       "dask.array<array, shape=(30000, 20000), dtype=int64, chunksize=(1000, 1000), chunktype=numpy.ndarray>"
      ]
     },
     "execution_count": 16,
     "metadata": {},
     "output_type": "execute_result"
    }
   ],
   "source": [
    "# compute the chunk size of dask\n",
    "da4.compute_chunk_sizes()"
   ]
  },
  {
   "cell_type": "markdown",
   "id": "0ecc7d86-de17-4ab7-a6e9-03f2e42dde4b",
   "metadata": {},
   "source": [
    "Comparison:\n",
    "\n",
    "- Calculated Array Size: calculated 4800000000 Bytes (4.47 GiB) matches Dask (4.47 GiB).\n",
    "- calculated Chunk Size: calculated 8000000 Bytes (7.63 MiB) matches Dask (7.63 MiB).\n",
    "\n",
    "The manual calculations align perfectly with Dask’s computed values for both the total array size and the chunk size\n"
   ]
  },
  {
   "cell_type": "markdown",
   "id": "b8624987-fd92-4854-a390-ec1bba8bac30",
   "metadata": {
    "tags": []
   },
   "source": [
    "#### 4. Set timers to calculate da4 with different “chunks”: (17 pts)\n",
    "\n",
    "- set the size of “chunks” to (1000, 1000).    (2 pts)\n",
    "- set the size of “chunks” to (3000, 2000).    (2 pts)\n",
    "- set the size of “chunks” to (300, 200)         (2 pts)\n",
    "- Plot a bin graph of the time with above different “chunks” (5 pts); and analyze the reason.    (6 pts)"
   ]
  },
  {
   "cell_type": "code",
   "execution_count": 17,
   "id": "3b1b8ddd-cefa-41e4-8222-ba29dd246a69",
   "metadata": {},
   "outputs": [],
   "source": [
    "def compute_dask_mean_with_chunk(array, chunk_size):\n",
    "    # Convert array to Dask with specified chunk size\n",
    "    da_array = da.from_array(array, chunks=chunk_size)\n",
    "    start_time = time.time()\n",
    "    # Calculate the mean of each row and trigger computation\n",
    "    row_means = da_array.mean(axis=1).compute()\n",
    "    return time.time() - start_time"
   ]
  },
  {
   "cell_type": "code",
   "execution_count": 18,
   "id": "33e7bf03-0b6d-4384-aa6f-09cb9fabbd03",
   "metadata": {},
   "outputs": [],
   "source": [
    "chunk_sizes = [(1000, 1000), (3000, 2000), (300, 200)]\n",
    "times = []"
   ]
  },
  {
   "cell_type": "code",
   "execution_count": 19,
   "id": "4a3353b0-1fda-41ff-a260-aea2cef9029d",
   "metadata": {},
   "outputs": [
    {
     "name": "stdout",
     "output_type": "stream",
     "text": [
      "Time taken with chunk size (1000, 1000): 0.27800774574279785 seconds\n",
      "Time taken with chunk size (3000, 2000): 0.16706395149230957 seconds\n",
      "Time taken with chunk size (300, 200): 3.518932819366455 seconds\n"
     ]
    }
   ],
   "source": [
    "for chunk_size in chunk_sizes:\n",
    "    time_taken = compute_dask_mean_with_chunk(array, chunk_size)\n",
    "    times.append(time_taken)\n",
    "    print(f\"Time taken with chunk size {chunk_size}: {time_taken} seconds\")"
   ]
  },
  {
   "cell_type": "code",
   "execution_count": 20,
   "id": "df9bf4b4-29b8-4237-993d-54fd9dad7adc",
   "metadata": {},
   "outputs": [
    {
     "data": {
      "image/png": "[encoded data removed]",
      "text/plain": [
       "<Figure size 720x360 with 1 Axes>"
      ]
     },
     "metadata": {
      "needs_background": "light"
     },
     "output_type": "display_data"
    }
   ],
   "source": [
    "# Bar Chart comparing different Dask Chunk Size\n",
    "plt.figure(figsize=(10, 5))\n",
    "plt.bar([\"(1000, 1000)\", \"(3000, 2000)\", \"(300, 200)\"], times)\n",
    "\n",
    "# Add title and labels\n",
    "plt.title(\"Computation Time for Dask Array Mean with Different Chunk Sizes\")\n",
    "plt.xlabel(\"Chunk Size\")\n",
    "plt.ylabel(\"Time (seconds)\")\n",
    "\n",
    "# Show the plot\n",
    "plt.show()"
   ]
  },
  {
   "cell_type": "code",
   "execution_count": 21,
   "id": "fc9543c9-417b-4c29-b490-4c4e785a5616",
   "metadata": {},
   "outputs": [],
   "source": [
    "# appending value for np array to display on graph\n",
    "graph_labels = []\n",
    "data_points = []\n",
    "\n",
    "# add points for no chunk\n",
    "graph_labels.append(\"np array\")\n",
    "data_points.append(numpy_time)\n",
    "\n",
    "for i in range(len(chunk_sizes)):\n",
    "    graph_labels.append(\"dask with chunk: \" + str(chunk_sizes[i]))\n",
    "    data_points.append(times[i])\n",
    "    "
   ]
  },
  {
   "cell_type": "code",
   "execution_count": 22,
   "id": "2dce37a6-8f81-4f67-acec-02e8a07c6f25",
   "metadata": {},
   "outputs": [
    {
     "data": {
      "image/png": "[encoded data removed]",
      "text/plain": [
       "<Figure size 1080x360 with 1 Axes>"
      ]
     },
     "metadata": {
      "needs_background": "light"
     },
     "output_type": "display_data"
    }
   ],
   "source": [
    "# Comparing NP and Dask with different chunk sizes \n",
    "plt.figure(figsize=(15, 5))\n",
    "plt.bar(graph_labels, data_points, color='skyblue')\n",
    "\n",
    "# Add title and labels\n",
    "plt.title(\"Computation Time for Mean with np.array and dask with different Chunk Sizes\")\n",
    "plt.xlabel(\"Chunk Size\")\n",
    "plt.ylabel(\"Time (seconds)\")\n",
    "\n",
    "# Show the plot\n",
    "plt.show()"
   ]
  },
  {
   "cell_type": "markdown",
   "id": "e23fc0e8-a213-4371-96d3-75f1f7913fa0",
   "metadata": {},
   "source": [
    "Analysis:\n",
    "\n",
    "- **Larger Chunks Improve Performance**: The fastest execution time was achieved with the largest chunk size (3000, 2000), which minimized the number of tasks Dask needed to manage, reducing task overhead significantly.\n",
    "\n",
    "- **Medium-Sized Chunks as a Balanced Option**: The (1000, 1000) chunk size provided a balance between performance and memory usage, making it a good compromise for systems with moderate memory availability.\n",
    "\n",
    "- **Increased Task Overhead with Smaller Chunks**: The smallest chunk size (300, 200) resulted in the slowest execution time, as the increased number of tasks created high overhead for task management, highlighting the downside of having too many small chunks.\n",
    "\n",
    "- **Memory vs. Speed Trade-Off**: Larger chunks generally led to faster execution but also require more memory per chunk. Choosing an optimal chunk size depends on the system’s available memory and processing power.\n",
    "\n",
    "- **Optimal Chunk Size Depends on Resource Constraints**: While (3000, 2000) was optimal here, selecting an ideal chunk size should consider memory limitations, data scale, and the system’s ability to handle larger blocks efficiently without running out of memory."
   ]
  },
  {
   "cell_type": "code",
   "execution_count": null,
   "id": "d615db76-ff72-45af-a4a3-bcdd24264a86",
   "metadata": {},
   "outputs": [],
   "source": []
  }
 ],
 "metadata": {
  "kernelspec": {
   "display_name": "venv",
   "language": "python",
   "name": "python3"
  },
  "language_info": {
   "codemirror_mode": {
    "name": "ipython",
    "version": 3
   },
   "file_extension": ".py",
   "mimetype": "text/x-python",
   "name": "python",
   "nbconvert_exporter": "python",
   "pygments_lexer": "ipython3",
   "version": "3.12.4"
  }
 },
 "nbformat": 4,
 "nbformat_minor": 5
}
